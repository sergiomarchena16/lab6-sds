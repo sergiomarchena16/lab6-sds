{
 "cells": [
  {
   "cell_type": "markdown",
   "id": "9de48054",
   "metadata": {},
   "source": [
    "# Lab 6 - Threat Hunting with Data Science\n",
    "**Security Data Science**\n",
    "\n",
    "Sergio Marchena - 16387\n",
    "\n",
    "UVG - 2022"
   ]
  },
  {
   "cell_type": "code",
   "execution_count": null,
   "id": "d6a32ca8",
   "metadata": {},
   "outputs": [],
   "source": []
  }
 ],
 "metadata": {
  "kernelspec": {
   "display_name": "Python 3 (ipykernel)",
   "language": "python",
   "name": "python3"
  },
  "language_info": {
   "codemirror_mode": {
    "name": "ipython",
    "version": 3
   },
   "file_extension": ".py",
   "mimetype": "text/x-python",
   "name": "python",
   "nbconvert_exporter": "python",
   "pygments_lexer": "ipython3",
   "version": "3.10.2"
  }
 },
 "nbformat": 4,
 "nbformat_minor": 5
}
